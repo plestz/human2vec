{
 "cells": [
  {
   "cell_type": "code",
   "execution_count": 63,
   "id": "77b81bea",
   "metadata": {},
   "outputs": [],
   "source": [
    "import numpy as np\n",
    "\n",
    "import torch\n",
    "import torch.nn.functional as F\n",
    "\n",
    "from torch_geometric.utils import train_test_split_edges, negative_sampling\n",
    "from torch_geometric.transforms import RandomLinkSplit\n",
    "from torch_geometric.nn import SAGEConv\n",
    "\n",
    "from sklearn.preprocessing import StandardScaler\n",
    "from sklearn.metrics import roc_auc_score\n",
    "\n",
    "from tqdm.auto import tqdm"
   ]
  },
  {
   "cell_type": "code",
   "execution_count": 64,
   "id": "f24a22b9",
   "metadata": {},
   "outputs": [
    {
     "name": "stdout",
     "output_type": "stream",
     "text": [
      "Data(edge_index=[2, 5038], name=[348], id=[348], referral=[5038], edge__igraph_index=[5038], x=[348, 775], edge_attr=[5038, 768], y=[348])\n",
      "Removing non-tensor edge attr → referral\n",
      "Data(edge_index=[2, 5038], name=[348], id=[348], edge__igraph_index=[5038], x=[348, 775], edge_attr=[5038, 768], y=[348])\n"
     ]
    }
   ],
   "source": [
    "# Load saved graph\n",
    "data = torch.load('data/embedded-ego-networks/facebook/ego_network_data.pt')\n",
    "print(data)  \n",
    "\n",
    "for key in list(data.keys()):                      # iterate over attribute names\n",
    "    val = data[key]\n",
    "    if (isinstance(val, list) or isinstance(val, str)) and \\\n",
    "       val and len(val) == data.edge_index.size(1):\n",
    "        print(f\"Removing non-tensor edge attr → {key}\")\n",
    "        delattr(data, key)\n",
    "\n",
    "print(data)\n",
    "\n",
    "# --- z-score scalar columns, keep SBERT as-is ---------------------------\n",
    "scalars = np.stack([data.x[:,i].cpu().numpy() for i,name in\n",
    "                    enumerate(['degree','indegree','outdegree',\n",
    "                               'betweenness','pagerank','clustering_coeff',\n",
    "                               'eigenvector'])], axis=1)\n",
    "scaled   = StandardScaler().fit_transform(scalars).astype('float32')\n",
    "data.x   = torch.cat([torch.tensor(scaled),                 # (N,7)\n",
    "                      data.x[:,7:]                          # (N,768)\n",
    "                     ],  dim=1)"
   ]
  },
  {
   "cell_type": "code",
   "execution_count": 65,
   "id": "059069d3",
   "metadata": {},
   "outputs": [
    {
     "name": "stdout",
     "output_type": "stream",
     "text": [
      "Data(edge_index=[2, 4032], name=[348], id=[348], edge__igraph_index=[4032], x=[348, 775], edge_attr=[4032, 768], y=[348], edge_label=[8064], edge_label_index=[2, 8064])\n"
     ]
    }
   ],
   "source": [
    "# Edge split (80/10/10)\n",
    "split = RandomLinkSplit(num_val  = 0.1,\n",
    "                        num_test = 0.1,\n",
    "                        add_negative_train_samples = True,\n",
    "                        neg_sampling_ratio = 1.0,\n",
    "                        is_undirected = False)      # keep direction\n",
    "train_data, val_data, test_data = split(data)       # PyG transform\n",
    "print(train_data)"
   ]
  },
  {
   "cell_type": "code",
   "execution_count": 66,
   "id": "5a62e9a2",
   "metadata": {},
   "outputs": [],
   "source": [
    "# GraphSAGE Model\n",
    "class GraphSAGE(torch.nn.Module):\n",
    "    def __init__(self, in_dim, hid=256):\n",
    "        super().__init__()\n",
    "        self.conv1 = SAGEConv(in_dim, hid)\n",
    "        self.conv2 = SAGEConv(hid, hid)\n",
    "    def encode(self, x, edge_index):\n",
    "        x = F.relu(self.conv1(x, edge_index))\n",
    "        return self.conv2(x, edge_index)            # (N, hid)\n",
    "    def decode(self, z, edge_index):                # no sigmoid here\n",
    "        src, dst = edge_index\n",
    "        return (z[src] * z[dst]).sum(dim=-1)        # raw dot-product\n",
    "    def forward(self, data):\n",
    "        z = self.encode(data.x, data.edge_index)\n",
    "        return self.decode(z, data.edge_label_index)\n",
    "    \n",
    "device = 'cuda' if torch.cuda.is_available() else 'cpu'\n",
    "model  = GraphSAGE(train_data.num_features).to(device)\n",
    "optimizer = torch.optim.Adam(model.parameters(), lr=1e-3)\n",
    "criterion  = torch.nn.BCEWithLogitsLoss()"
   ]
  },
  {
   "cell_type": "code",
   "execution_count": 67,
   "id": "c33f6f5c",
   "metadata": {},
   "outputs": [],
   "source": [
    "# Training Helpers\n",
    "def train_epoch(data):\n",
    "    model.train(); optimizer.zero_grad()\n",
    "    out  = model(data)\n",
    "    loss = criterion(out, data.edge_label.float())\n",
    "    loss.backward(); optimizer.step()\n",
    "    return loss.item()\n",
    "\n",
    "@torch.no_grad()\n",
    "def evaluate(data, k=50):\n",
    "    model.eval()\n",
    "    logit = model(data)\n",
    "    prob  = torch.sigmoid(logit).cpu()\n",
    "    y     = data.edge_label.cpu()\n",
    "    auc   = roc_auc_score(y, prob)\n",
    "    _, idx = prob.topk(k)\n",
    "    hits = y[idx].sum().item() / k\n",
    "    return auc, hits"
   ]
  },
  {
   "cell_type": "code",
   "execution_count": 71,
   "id": "cee94692",
   "metadata": {},
   "outputs": [
    {
     "name": "stderr",
     "output_type": "stream",
     "text": [
      "  1%|          | 6/1000 [00:00<00:43, 23.07it/s]"
     ]
    },
    {
     "name": "stdout",
     "output_type": "stream",
     "text": [
      "E00  loss 13.5050  val-AUC 0.7359  hits@50 0.640\n"
     ]
    },
    {
     "name": "stderr",
     "output_type": "stream",
     "text": [
      "  6%|▌         | 56/1000 [00:01<00:28, 33.17it/s]"
     ]
    },
    {
     "name": "stdout",
     "output_type": "stream",
     "text": [
      "E50  loss 8.4324  val-AUC 0.7579  hits@50 0.640\n"
     ]
    },
    {
     "name": "stderr",
     "output_type": "stream",
     "text": [
      " 10%|█         | 104/1000 [00:03<00:27, 32.79it/s]"
     ]
    },
    {
     "name": "stdout",
     "output_type": "stream",
     "text": [
      "E100  loss 5.8491  val-AUC 0.7679  hits@50 0.780\n"
     ]
    },
    {
     "name": "stderr",
     "output_type": "stream",
     "text": [
      " 16%|█▌        | 155/1000 [00:04<00:26, 31.36it/s]"
     ]
    },
    {
     "name": "stdout",
     "output_type": "stream",
     "text": [
      "E150  loss 4.1435  val-AUC 0.7587  hits@50 0.820\n"
     ]
    },
    {
     "name": "stderr",
     "output_type": "stream",
     "text": [
      " 21%|██        | 207/1000 [00:06<00:24, 32.41it/s]"
     ]
    },
    {
     "name": "stdout",
     "output_type": "stream",
     "text": [
      "E200  loss 2.9435  val-AUC 0.7656  hits@50 0.860\n"
     ]
    },
    {
     "name": "stderr",
     "output_type": "stream",
     "text": [
      " 26%|██▌       | 255/1000 [00:07<00:22, 33.23it/s]"
     ]
    },
    {
     "name": "stdout",
     "output_type": "stream",
     "text": [
      "E250  loss 2.1717  val-AUC 0.7947  hits@50 0.900\n"
     ]
    },
    {
     "name": "stderr",
     "output_type": "stream",
     "text": [
      " 31%|███       | 307/1000 [00:09<00:20, 33.26it/s]"
     ]
    },
    {
     "name": "stdout",
     "output_type": "stream",
     "text": [
      "E300  loss 1.7671  val-AUC 0.8003  hits@50 0.840\n"
     ]
    },
    {
     "name": "stderr",
     "output_type": "stream",
     "text": [
      " 36%|███▌      | 355/1000 [00:10<00:19, 33.29it/s]"
     ]
    },
    {
     "name": "stdout",
     "output_type": "stream",
     "text": [
      "E350  loss 1.4822  val-AUC 0.8119  hits@50 0.780\n"
     ]
    },
    {
     "name": "stderr",
     "output_type": "stream",
     "text": [
      " 41%|████      | 407/1000 [00:12<00:18, 32.07it/s]"
     ]
    },
    {
     "name": "stdout",
     "output_type": "stream",
     "text": [
      "E400  loss 1.2727  val-AUC 0.8182  hits@50 0.720\n"
     ]
    },
    {
     "name": "stderr",
     "output_type": "stream",
     "text": [
      " 46%|████▌     | 455/1000 [00:13<00:16, 33.55it/s]"
     ]
    },
    {
     "name": "stdout",
     "output_type": "stream",
     "text": [
      "E450  loss 1.1147  val-AUC 0.8219  hits@50 0.720\n"
     ]
    },
    {
     "name": "stderr",
     "output_type": "stream",
     "text": [
      " 51%|█████     | 507/1000 [00:15<00:14, 33.45it/s]"
     ]
    },
    {
     "name": "stdout",
     "output_type": "stream",
     "text": [
      "E500  loss 0.9921  val-AUC 0.8263  hits@50 0.800\n"
     ]
    },
    {
     "name": "stderr",
     "output_type": "stream",
     "text": [
      " 56%|█████▌    | 555/1000 [00:16<00:13, 33.62it/s]"
     ]
    },
    {
     "name": "stdout",
     "output_type": "stream",
     "text": [
      "E550  loss 0.8946  val-AUC 0.8299  hits@50 0.820\n"
     ]
    },
    {
     "name": "stderr",
     "output_type": "stream",
     "text": [
      " 61%|██████    | 607/1000 [00:18<00:11, 33.43it/s]"
     ]
    },
    {
     "name": "stdout",
     "output_type": "stream",
     "text": [
      "E600  loss 0.8162  val-AUC 0.8336  hits@50 0.860\n"
     ]
    },
    {
     "name": "stderr",
     "output_type": "stream",
     "text": [
      " 66%|██████▌   | 655/1000 [00:19<00:10, 33.45it/s]"
     ]
    },
    {
     "name": "stdout",
     "output_type": "stream",
     "text": [
      "E650  loss 0.7552  val-AUC 0.8363  hits@50 0.840\n"
     ]
    },
    {
     "name": "stderr",
     "output_type": "stream",
     "text": [
      " 71%|███████   | 707/1000 [00:21<00:08, 33.40it/s]"
     ]
    },
    {
     "name": "stdout",
     "output_type": "stream",
     "text": [
      "E700  loss 0.6985  val-AUC 0.8395  hits@50 0.840\n"
     ]
    },
    {
     "name": "stderr",
     "output_type": "stream",
     "text": [
      " 76%|███████▌  | 755/1000 [00:22<00:07, 33.66it/s]"
     ]
    },
    {
     "name": "stdout",
     "output_type": "stream",
     "text": [
      "E750  loss 0.6513  val-AUC 0.8445  hits@50 0.840\n"
     ]
    },
    {
     "name": "stderr",
     "output_type": "stream",
     "text": [
      " 81%|████████  | 806/1000 [00:24<00:05, 32.93it/s]"
     ]
    },
    {
     "name": "stdout",
     "output_type": "stream",
     "text": [
      "E800  loss 0.6135  val-AUC 0.8479  hits@50 0.840\n"
     ]
    },
    {
     "name": "stderr",
     "output_type": "stream",
     "text": [
      " 85%|████████▌ | 854/1000 [00:25<00:04, 32.45it/s]"
     ]
    },
    {
     "name": "stdout",
     "output_type": "stream",
     "text": [
      "E850  loss 0.5828  val-AUC 0.8484  hits@50 0.840\n"
     ]
    },
    {
     "name": "stderr",
     "output_type": "stream",
     "text": [
      " 91%|█████████ | 906/1000 [00:27<00:02, 33.33it/s]"
     ]
    },
    {
     "name": "stdout",
     "output_type": "stream",
     "text": [
      "E900  loss 0.5531  val-AUC 0.8530  hits@50 0.820\n"
     ]
    },
    {
     "name": "stderr",
     "output_type": "stream",
     "text": [
      " 95%|█████████▌| 954/1000 [00:28<00:01, 32.98it/s]"
     ]
    },
    {
     "name": "stdout",
     "output_type": "stream",
     "text": [
      "E950  loss 0.5282  val-AUC 0.8553  hits@50 0.820\n"
     ]
    },
    {
     "name": "stderr",
     "output_type": "stream",
     "text": [
      "100%|██████████| 1000/1000 [00:30<00:00, 33.02it/s]\n"
     ]
    }
   ],
   "source": [
    "# Training & Evaluation Loops\n",
    "train_data = train_data.to(device)\n",
    "val_data   = val_data.to(device)\n",
    "test_data  = test_data.to(device)\n",
    "\n",
    "EPOCHS = 1000\n",
    "for epoch in tqdm(range(EPOCHS)):\n",
    "    loss = train_epoch(train_data)\n",
    "    if epoch % 50 == 0:\n",
    "        auc, hits = evaluate(val_data)\n",
    "        print(f'E{epoch:02d}  loss {loss:.4f}  val-AUC {auc:.4f}  hits@50 {hits:.3f}')"
   ]
  },
  {
   "cell_type": "code",
   "execution_count": 72,
   "id": "9c016688",
   "metadata": {},
   "outputs": [
    {
     "name": "stdout",
     "output_type": "stream",
     "text": [
      "\n",
      "TEST  AUC=0.8722  Hits@50=0.880\n"
     ]
    }
   ],
   "source": [
    "test_auc, test_hits = evaluate(test_data)\n",
    "print(f'\\nTEST  AUC={test_auc:.4f}  Hits@50={test_hits:.3f}')"
   ]
  }
 ],
 "metadata": {
  "kernelspec": {
   "display_name": "env",
   "language": "python",
   "name": "python3"
  },
  "language_info": {
   "codemirror_mode": {
    "name": "ipython",
    "version": 3
   },
   "file_extension": ".py",
   "mimetype": "text/x-python",
   "name": "python",
   "nbconvert_exporter": "python",
   "pygments_lexer": "ipython3",
   "version": "3.12.2"
  }
 },
 "nbformat": 4,
 "nbformat_minor": 5
}

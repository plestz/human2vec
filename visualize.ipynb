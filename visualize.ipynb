{
 "cells": [
  {
   "cell_type": "code",
   "execution_count": 5,
   "id": "32ed2ee5",
   "metadata": {},
   "outputs": [],
   "source": [
    "import numpy as np\n",
    "import pandas as pd\n",
    "import matplotlib.pyplot as plt\n",
    "import plotly.express as px\n",
    "from mpl_toolkits.mplot3d import Axes3D\n",
    "import mplcursors\n",
    "import seaborn as sns\n",
    "\n",
    "import json\n",
    "\n",
    "from sklearn.decomposition import PCA\n",
    "from sklearn.manifold import TSNE\n",
    "from umap import UMAP"
   ]
  },
  {
   "cell_type": "code",
   "execution_count": 6,
   "id": "a18fe2a5",
   "metadata": {},
   "outputs": [
    {
     "name": "stdout",
     "output_type": "stream",
     "text": [
      "<class 'dict'>\n",
      "(75, 768)\n"
     ]
    }
   ],
   "source": [
    "with open('data/process/human_embeddings.json', 'r') as f:\n",
    "    data = json.load(f)\n",
    "    df = pd.DataFrame(data).transpose()\n",
    "\n",
    "print(type(data))\n",
    "print(df.shape)"
   ]
  },
  {
   "cell_type": "code",
   "execution_count": 7,
   "id": "fc5a3771",
   "metadata": {},
   "outputs": [
    {
     "name": "stdout",
     "output_type": "stream",
     "text": [
      "(75, 768)\n"
     ]
    }
   ],
   "source": [
    "X = np.stack(list(data.values()))\n",
    "\n",
    "print(X.shape) # num_names by embedding dimension"
   ]
  },
  {
   "cell_type": "code",
   "execution_count": 8,
   "id": "053582e2",
   "metadata": {},
   "outputs": [],
   "source": [
    "pca_2d = PCA(n_components = 2)\n",
    "X_reduced_pca_2d = pca_2d.fit_transform(X)\n",
    "\n",
    "df['x'] = X_reduced_pca_2d[:, 0]\n",
    "df['y'] = X_reduced_pca_2d[:, 1]\n",
    "\n",
    "fig = px.scatter(df.reset_index(), x = 'x', y = 'y',hover_name = 'index', color = 'index')\n",
    "fig.write_html(\"data/postprocess/pca_2d_human_embeddings.html\")\n",
    "\n",
    "pca_3d = PCA(n_components = 3)\n",
    "X_reduced_pca_3d = pca_3d.fit_transform(X)\n",
    "\n",
    "df['x'] = X_reduced_pca_3d[:, 0]\n",
    "df['y'] = X_reduced_pca_3d[:, 1]\n",
    "df['z'] = X_reduced_pca_3d[:, 2]\n",
    "\n",
    "fig = px.scatter_3d(df.reset_index(), x = 'x', y = 'y', z = 'z', hover_name = 'index', color = 'index')\n",
    "fig.write_html(\"data/postprocess/pca_3d_human_embeddings.html\")"
   ]
  }
 ],
 "metadata": {
  "kernelspec": {
   "display_name": "env",
   "language": "python",
   "name": "python3"
  },
  "language_info": {
   "codemirror_mode": {
    "name": "ipython",
    "version": 3
   },
   "file_extension": ".py",
   "mimetype": "text/x-python",
   "name": "python",
   "nbconvert_exporter": "python",
   "pygments_lexer": "ipython3",
   "version": "3.12.2"
  }
 },
 "nbformat": 4,
 "nbformat_minor": 5
}

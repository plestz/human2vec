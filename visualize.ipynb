{
 "cells": [
  {
   "cell_type": "code",
   "execution_count": 10,
   "id": "32ed2ee5",
   "metadata": {},
   "outputs": [],
   "source": [
    "import numpy as np\n",
    "import pandas as pd\n",
    "import matplotlib.pyplot as plt\n",
    "import plotly.express as px\n",
    "from mpl_toolkits.mplot3d import Axes3D\n",
    "import mplcursors\n",
    "import seaborn as sns\n",
    "\n",
    "import json\n",
    "\n",
    "from sklearn.decomposition import PCA\n",
    "from sklearn.manifold import TSNE\n",
    "from umap import UMAP"
   ]
  },
  {
   "cell_type": "code",
   "execution_count": 11,
   "id": "a18fe2a5",
   "metadata": {},
   "outputs": [
    {
     "name": "stdout",
     "output_type": "stream",
     "text": [
      "<class 'dict'>\n",
      "(75, 768)\n"
     ]
    }
   ],
   "source": [
    "with open('data/process/human_embeddings.json', 'r') as f:\n",
    "    data = json.load(f)\n",
    "    df = pd.DataFrame(data).transpose()\n",
    "\n",
    "print(type(data))\n",
    "print(df.shape)"
   ]
  },
  {
   "cell_type": "code",
   "execution_count": 12,
   "id": "fc5a3771",
   "metadata": {},
   "outputs": [
    {
     "name": "stdout",
     "output_type": "stream",
     "text": [
      "(75, 768)\n"
     ]
    }
   ],
   "source": [
    "X = np.stack(list(data.values()))\n",
    "\n",
    "print(X.shape) # num_names by embedding dimension"
   ]
  },
  {
   "cell_type": "code",
   "execution_count": 13,
   "id": "053582e2",
   "metadata": {},
   "outputs": [],
   "source": [
    "pca_2d = PCA(n_components = 2)\n",
    "X_reduced_pca_2d = pca_2d.fit_transform(X)\n",
    "\n",
    "df_pca_2d = df.copy()\n",
    "\n",
    "df_pca_2d['x'] = X_reduced_pca_2d[:, 0]\n",
    "df_pca_2d['y'] = X_reduced_pca_2d[:, 1]\n",
    "\n",
    "fig = px.scatter(df_pca_2d.reset_index(), x = 'x', y = 'y', hover_name = 'index', color = 'index')\n",
    "fig.write_html(\"data/postprocess/pca_2d_human_embeddings.html\")\n",
    "\n",
    "pca_3d = PCA(n_components = 3)\n",
    "X_reduced_pca_3d = pca_3d.fit_transform(X)\n",
    "\n",
    "df_pca_3d = df.copy()\n",
    "\n",
    "df_pca_3d['x'] = X_reduced_pca_3d[:, 0]\n",
    "df_pca_3d['y'] = X_reduced_pca_3d[:, 1]\n",
    "df_pca_3d['z'] = X_reduced_pca_3d[:, 2]\n",
    "\n",
    "fig = px.scatter_3d(df_pca_3d.reset_index(), x = 'x', y = 'y', z = 'z', hover_name = 'index', color = 'index')\n",
    "fig.write_html(\"data/postprocess/pca_3d_human_embeddings.html\")"
   ]
  },
  {
   "cell_type": "code",
   "execution_count": 24,
   "id": "34b23a9a",
   "metadata": {},
   "outputs": [
    {
     "name": "stdout",
     "output_type": "stream",
     "text": [
      "Intel MKL WARNING: Support of Intel(R) Streaming SIMD Extensions 4.2 (Intel(R) SSE4.2) enabled only processors has been deprecated. Intel oneAPI Math Kernel Library 2025.0 will require Intel(R) Advanced Vector Extensions (Intel(R) AVX) instructions.\n",
      "Intel MKL WARNING: Support of Intel(R) Streaming SIMD Extensions 4.2 (Intel(R) SSE4.2) enabled only processors has been deprecated. Intel oneAPI Math Kernel Library 2025.0 will require Intel(R) Advanced Vector Extensions (Intel(R) AVX) instructions.\n"
     ]
    }
   ],
   "source": [
    "tsne_2d = TSNE(n_components = 2, perplexity = 30, metric = 'cosine', max_iter = 1000, learning_rate = 100)\n",
    "X_reduced_tsne_2d = tsne_2d.fit_transform(X)\n",
    "\n",
    "df_tsne_2d = df.copy()\n",
    "\n",
    "df_tsne_2d['x'] = X_reduced_tsne_2d[:, 0]\n",
    "df_tsne_2d['y'] = X_reduced_tsne_2d[:, 1]\n",
    "\n",
    "fig = px.scatter(df_tsne_2d.reset_index(), x = 'x', y = 'y', hover_name = 'index', color = 'index')\n",
    "fig.write_html(\"data/postprocess/tsne_2d_human_embeddings.html\")\n",
    "\n",
    "tsne_3d = TSNE(n_components = 3, perplexity = 30, metric = 'cosine', max_iter = 1000, learning_rate = 100)\n",
    "X_reduced_tsne_3d = tsne_3d.fit_transform(X)\n",
    "\n",
    "df_tsne_3d = df.copy()\n",
    "\n",
    "df_tsne_3d['x'] = X_reduced_tsne_3d[:, 0]\n",
    "df_tsne_3d['y'] = X_reduced_tsne_3d[:, 1]\n",
    "df_tsne_3d['z'] = X_reduced_tsne_3d[:, 2]\n",
    "\n",
    "fig = px.scatter_3d(df_tsne_3d.reset_index(), x = 'x', y = 'y', z = 'z', hover_name = 'index', color = 'index')\n",
    "fig.write_html(\"data/postprocess/tsne_3d_human_embeddings.html\")"
   ]
  },
  {
   "cell_type": "code",
   "execution_count": 30,
   "id": "57a9a77b",
   "metadata": {},
   "outputs": [
    {
     "name": "stderr",
     "output_type": "stream",
     "text": [
      "/Users/paul/opt/miniconda3/envs/env/lib/python3.12/site-packages/sklearn/utils/deprecation.py:151: FutureWarning:\n",
      "\n",
      "'force_all_finite' was renamed to 'ensure_all_finite' in 1.6 and will be removed in 1.8.\n",
      "\n"
     ]
    },
    {
     "name": "stdout",
     "output_type": "stream",
     "text": [
      "Intel MKL WARNING: Support of Intel(R) Streaming SIMD Extensions 4.2 (Intel(R) SSE4.2) enabled only processors has been deprecated. Intel oneAPI Math Kernel Library 2025.0 will require Intel(R) Advanced Vector Extensions (Intel(R) AVX) instructions.\n"
     ]
    },
    {
     "name": "stderr",
     "output_type": "stream",
     "text": [
      "/Users/paul/opt/miniconda3/envs/env/lib/python3.12/site-packages/sklearn/utils/deprecation.py:151: FutureWarning:\n",
      "\n",
      "'force_all_finite' was renamed to 'ensure_all_finite' in 1.6 and will be removed in 1.8.\n",
      "\n"
     ]
    },
    {
     "name": "stdout",
     "output_type": "stream",
     "text": [
      "Intel MKL WARNING: Support of Intel(R) Streaming SIMD Extensions 4.2 (Intel(R) SSE4.2) enabled only processors has been deprecated. Intel oneAPI Math Kernel Library 2025.0 will require Intel(R) Advanced Vector Extensions (Intel(R) AVX) instructions.\n"
     ]
    }
   ],
   "source": [
    "umap_2d = UMAP(n_components = 2, metric = 'cosine', n_neighbors = 10, min_dist = 0.1)\n",
    "X_reduced_umap_2d = umap_2d.fit_transform(X)\n",
    "\n",
    "df_umap_2d = df.copy()\n",
    "\n",
    "df_umap_2d['x'] = X_reduced_umap_2d[:, 0]\n",
    "df_umap_2d['y'] = X_reduced_umap_2d[:, 1]\n",
    "\n",
    "fig = px.scatter(df_umap_2d.reset_index(), x = 'x', y = 'y', hover_name = 'index', color = 'index')\n",
    "fig.write_html(\"data/postprocess/umap_2d_human_embeddings.html\")\n",
    "\n",
    "umap_3d = UMAP(n_components = 3, metric = 'cosine', n_neighbors = 30, min_dist = 0.05)\n",
    "X_reduced_umap_3d = umap_3d.fit_transform(X)\n",
    "\n",
    "df_umap_3d = df.copy()\n",
    "\n",
    "df_umap_3d['x'] = X_reduced_umap_3d[:, 0]\n",
    "df_umap_3d['y'] = X_reduced_umap_3d[:, 1]\n",
    "df_umap_3d['z'] = X_reduced_umap_3d[:, 2]\n",
    "\n",
    "fig = px.scatter_3d(df_umap_3d.reset_index(), x = 'x', y = 'y', z = 'z', hover_name = 'index', color = 'index')\n",
    "fig.write_html(\"data/postprocess/umap_3d_human_embeddings.html\")"
   ]
  }
 ],
 "metadata": {
  "kernelspec": {
   "display_name": "env",
   "language": "python",
   "name": "python3"
  },
  "language_info": {
   "codemirror_mode": {
    "name": "ipython",
    "version": 3
   },
   "file_extension": ".py",
   "mimetype": "text/x-python",
   "name": "python",
   "nbconvert_exporter": "python",
   "pygments_lexer": "ipython3",
   "version": "3.12.2"
  }
 },
 "nbformat": 4,
 "nbformat_minor": 5
}

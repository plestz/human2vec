{
 "cells": [
  {
   "cell_type": "code",
   "execution_count": 1,
   "id": "32ed2ee5",
   "metadata": {},
   "outputs": [
    {
     "name": "stdout",
     "output_type": "stream",
     "text": [
      "Intel MKL WARNING: Support of Intel(R) Streaming SIMD Extensions 4.2 (Intel(R) SSE4.2) enabled only processors has been deprecated. Intel oneAPI Math Kernel Library 2025.0 will require Intel(R) Advanced Vector Extensions (Intel(R) AVX) instructions.\n",
      "Intel MKL WARNING: Support of Intel(R) Streaming SIMD Extensions 4.2 (Intel(R) SSE4.2) enabled only processors has been deprecated. Intel oneAPI Math Kernel Library 2025.0 will require Intel(R) Advanced Vector Extensions (Intel(R) AVX) instructions.\n"
     ]
    },
    {
     "name": "stderr",
     "output_type": "stream",
     "text": [
      "/Users/paul/opt/miniconda3/envs/env/lib/python3.12/site-packages/tqdm/auto.py:21: TqdmWarning: IProgress not found. Please update jupyter and ipywidgets. See https://ipywidgets.readthedocs.io/en/stable/user_install.html\n",
      "  from .autonotebook import tqdm as notebook_tqdm\n"
     ]
    },
    {
     "name": "stdout",
     "output_type": "stream",
     "text": [
      "Requirement already satisfied: nbformat in /Users/paul/opt/miniconda3/envs/env/lib/python3.12/site-packages (5.10.4)\n",
      "Requirement already satisfied: fastjsonschema>=2.15 in /Users/paul/opt/miniconda3/envs/env/lib/python3.12/site-packages (from nbformat) (2.21.1)\n",
      "Requirement already satisfied: jsonschema>=2.6 in /Users/paul/opt/miniconda3/envs/env/lib/python3.12/site-packages (from nbformat) (4.23.0)\n",
      "Requirement already satisfied: jupyter-core!=5.0.*,>=4.12 in /Users/paul/opt/miniconda3/envs/env/lib/python3.12/site-packages (from nbformat) (5.7.2)\n",
      "Requirement already satisfied: traitlets>=5.1 in /Users/paul/opt/miniconda3/envs/env/lib/python3.12/site-packages (from nbformat) (5.14.3)\n",
      "Requirement already satisfied: attrs>=22.2.0 in /Users/paul/opt/miniconda3/envs/env/lib/python3.12/site-packages (from jsonschema>=2.6->nbformat) (25.3.0)\n",
      "Requirement already satisfied: jsonschema-specifications>=2023.03.6 in /Users/paul/opt/miniconda3/envs/env/lib/python3.12/site-packages (from jsonschema>=2.6->nbformat) (2023.7.1)\n",
      "Requirement already satisfied: referencing>=0.28.4 in /Users/paul/opt/miniconda3/envs/env/lib/python3.12/site-packages (from jsonschema>=2.6->nbformat) (0.30.2)\n",
      "Requirement already satisfied: rpds-py>=0.7.1 in /Users/paul/opt/miniconda3/envs/env/lib/python3.12/site-packages (from jsonschema>=2.6->nbformat) (0.22.3)\n",
      "Requirement already satisfied: platformdirs>=2.5 in /Users/paul/opt/miniconda3/envs/env/lib/python3.12/site-packages (from jupyter-core!=5.0.*,>=4.12->nbformat) (4.3.7)\n"
     ]
    }
   ],
   "source": [
    "import numpy as np\n",
    "import pandas as pd\n",
    "import matplotlib.pyplot as plt\n",
    "import plotly.express as px\n",
    "import plotly.graph_objects as go\n",
    "\n",
    "import json\n",
    "import random\n",
    "\n",
    "from sklearn.decomposition import PCA\n",
    "from sklearn.manifold import TSNE\n",
    "from umap import UMAP\n",
    "\n",
    "!pip install --upgrade nbformat"
   ]
  },
  {
   "cell_type": "code",
   "execution_count": 2,
   "id": "a18fe2a5",
   "metadata": {},
   "outputs": [
    {
     "name": "stdout",
     "output_type": "stream",
     "text": [
      "<class 'dict'>\n",
      "(75, 768)\n"
     ]
    }
   ],
   "source": [
    "with open('data/process/human_embeddings.json', 'r') as f:\n",
    "    data = json.load(f)\n",
    "    df = pd.DataFrame(data).transpose()\n",
    "\n",
    "print(type(data))\n",
    "print(df.shape)"
   ]
  },
  {
   "cell_type": "code",
   "execution_count": 3,
   "id": "fc5a3771",
   "metadata": {},
   "outputs": [
    {
     "name": "stdout",
     "output_type": "stream",
     "text": [
      "(75, 768)\n"
     ]
    }
   ],
   "source": [
    "X = np.stack(list(data.values()))\n",
    "\n",
    "print(X.shape) # num_names by embedding dimension"
   ]
  },
  {
   "cell_type": "code",
   "execution_count": 4,
   "id": "053582e2",
   "metadata": {},
   "outputs": [],
   "source": [
    "pca_2d = PCA(n_components = 2)\n",
    "X_reduced_pca_2d = pca_2d.fit_transform(X)\n",
    "\n",
    "df_pca_2d = df.copy()\n",
    "\n",
    "df_pca_2d['x'] = X_reduced_pca_2d[:, 0]\n",
    "df_pca_2d['y'] = X_reduced_pca_2d[:, 1]\n",
    "\n",
    "fig = px.scatter(df_pca_2d.reset_index(), x = 'x', y = 'y', hover_name = 'index', color = 'index')\n",
    "fig.write_html(\"data/postprocess/pca_2d_human_embeddings.html\")\n",
    "\n",
    "pca_3d = PCA(n_components = 3)\n",
    "X_reduced_pca_3d = pca_3d.fit_transform(X)\n",
    "\n",
    "df_pca_3d = df.copy()\n",
    "\n",
    "df_pca_3d['x'] = X_reduced_pca_3d[:, 0]\n",
    "df_pca_3d['y'] = X_reduced_pca_3d[:, 1]\n",
    "df_pca_3d['z'] = X_reduced_pca_3d[:, 2]\n",
    "\n",
    "fig = px.scatter_3d(df_pca_3d.reset_index(), x = 'x', y = 'y', z = 'z', hover_name = 'index', color = 'index')\n",
    "fig.write_html(\"data/postprocess/pca_3d_human_embeddings.html\")"
   ]
  },
  {
   "cell_type": "code",
   "execution_count": 5,
   "id": "34b23a9a",
   "metadata": {},
   "outputs": [
    {
     "name": "stdout",
     "output_type": "stream",
     "text": [
      "Intel MKL WARNING: Support of Intel(R) Streaming SIMD Extensions 4.2 (Intel(R) SSE4.2) enabled only processors has been deprecated. Intel oneAPI Math Kernel Library 2025.0 will require Intel(R) Advanced Vector Extensions (Intel(R) AVX) instructions.\n",
      "Intel MKL WARNING: Support of Intel(R) Streaming SIMD Extensions 4.2 (Intel(R) SSE4.2) enabled only processors has been deprecated. Intel oneAPI Math Kernel Library 2025.0 will require Intel(R) Advanced Vector Extensions (Intel(R) AVX) instructions.\n"
     ]
    }
   ],
   "source": [
    "tsne_2d = TSNE(n_components = 2, perplexity = 30, metric = 'cosine', max_iter = 1000, learning_rate = 100)\n",
    "X_reduced_tsne_2d = tsne_2d.fit_transform(X)\n",
    "\n",
    "df_tsne_2d = df.copy()\n",
    "\n",
    "df_tsne_2d['x'] = X_reduced_tsne_2d[:, 0]\n",
    "df_tsne_2d['y'] = X_reduced_tsne_2d[:, 1]\n",
    "\n",
    "fig = px.scatter(df_tsne_2d.reset_index(), x = 'x', y = 'y', hover_name = 'index', color = 'index')\n",
    "fig.write_html(\"data/postprocess/tsne_2d_human_embeddings.html\")\n",
    "\n",
    "tsne_3d = TSNE(n_components = 3, perplexity = 30, metric = 'cosine', max_iter = 1000, learning_rate = 100)\n",
    "X_reduced_tsne_3d = tsne_3d.fit_transform(X)\n",
    "\n",
    "df_tsne_3d = df.copy()\n",
    "\n",
    "df_tsne_3d['x'] = X_reduced_tsne_3d[:, 0]\n",
    "df_tsne_3d['y'] = X_reduced_tsne_3d[:, 1]\n",
    "df_tsne_3d['z'] = X_reduced_tsne_3d[:, 2]\n",
    "\n",
    "fig = px.scatter_3d(df_tsne_3d.reset_index(), x = 'x', y = 'y', z = 'z', hover_name = 'index', color = 'index')\n",
    "fig.write_html(\"data/postprocess/tsne_3d_human_embeddings.html\")"
   ]
  },
  {
   "cell_type": "code",
   "execution_count": 6,
   "id": "57a9a77b",
   "metadata": {},
   "outputs": [
    {
     "name": "stderr",
     "output_type": "stream",
     "text": [
      "/Users/paul/opt/miniconda3/envs/env/lib/python3.12/site-packages/sklearn/utils/deprecation.py:151: FutureWarning:\n",
      "\n",
      "'force_all_finite' was renamed to 'ensure_all_finite' in 1.6 and will be removed in 1.8.\n",
      "\n"
     ]
    },
    {
     "name": "stdout",
     "output_type": "stream",
     "text": [
      "Intel MKL WARNING: Support of Intel(R) Streaming SIMD Extensions 4.2 (Intel(R) SSE4.2) enabled only processors has been deprecated. Intel oneAPI Math Kernel Library 2025.0 will require Intel(R) Advanced Vector Extensions (Intel(R) AVX) instructions.\n"
     ]
    },
    {
     "name": "stderr",
     "output_type": "stream",
     "text": [
      "/Users/paul/opt/miniconda3/envs/env/lib/python3.12/site-packages/sklearn/utils/deprecation.py:151: FutureWarning:\n",
      "\n",
      "'force_all_finite' was renamed to 'ensure_all_finite' in 1.6 and will be removed in 1.8.\n",
      "\n"
     ]
    },
    {
     "name": "stdout",
     "output_type": "stream",
     "text": [
      "Intel MKL WARNING: Support of Intel(R) Streaming SIMD Extensions 4.2 (Intel(R) SSE4.2) enabled only processors has been deprecated. Intel oneAPI Math Kernel Library 2025.0 will require Intel(R) Advanced Vector Extensions (Intel(R) AVX) instructions.\n"
     ]
    }
   ],
   "source": [
    "umap_2d = UMAP(n_components = 2, metric = 'cosine', n_neighbors = 10, min_dist = 0.1)\n",
    "X_reduced_umap_2d = umap_2d.fit_transform(X)\n",
    "\n",
    "df_umap_2d = df.copy()\n",
    "\n",
    "df_umap_2d['x'] = X_reduced_umap_2d[:, 0]\n",
    "df_umap_2d['y'] = X_reduced_umap_2d[:, 1]\n",
    "\n",
    "fig = px.scatter(df_umap_2d.reset_index(), x = 'x', y = 'y', hover_name = 'index', color = 'index')\n",
    "fig.write_html(\"data/postprocess/umap_2d_human_embeddings.html\")\n",
    "\n",
    "umap_3d = UMAP(n_components = 3, metric = 'cosine', n_neighbors = 30, min_dist = 0.05)\n",
    "X_reduced_umap_3d = umap_3d.fit_transform(X)\n",
    "\n",
    "df_umap_3d = df.copy()\n",
    "\n",
    "df_umap_3d['x'] = X_reduced_umap_3d[:, 0]\n",
    "df_umap_3d['y'] = X_reduced_umap_3d[:, 1]\n",
    "df_umap_3d['z'] = X_reduced_umap_3d[:, 2]\n",
    "\n",
    "fig = px.scatter_3d(df_umap_3d.reset_index(), x = 'x', y = 'y', z = 'z', hover_name = 'index', color = 'index')\n",
    "fig.write_html(\"data/postprocess/umap_3d_human_embeddings.html\")"
   ]
  },
  {
   "cell_type": "code",
   "execution_count": 7,
   "id": "dbf6ff1b",
   "metadata": {},
   "outputs": [],
   "source": [
    "with open('data/process/member_to_member_referrals_given_75_100.json', 'r') as f:\n",
    "    data_dict = json.load(f)"
   ]
  },
  {
   "cell_type": "code",
   "execution_count": 8,
   "id": "8ddd9f28",
   "metadata": {},
   "outputs": [],
   "source": [
    "# Generate random 3D positions\n",
    "all_nodes = set(data_dict.keys())\n",
    "for values in data_dict.values():\n",
    "    all_nodes.update(values)\n",
    "\n",
    "node_positions = {\n",
    "    node: np.array([\n",
    "        random.uniform(-10, 10),\n",
    "        random.uniform(-10, 10),\n",
    "        random.uniform(-10, 10)\n",
    "    ])\n",
    "    for node in all_nodes\n",
    "}\n",
    "\n",
    "# Scatter3D node positions\n",
    "points_trace = go.Scatter3d(\n",
    "    x = [pos[0] for pos in node_positions.values()],\n",
    "    y = [pos[1] for pos in node_positions.values()],\n",
    "    z = [pos[2] for pos in node_positions.values()],\n",
    "    mode = 'markers+text',\n",
    "    marker = dict(size = 5, color = 'blue'),\n",
    "    text = list(node_positions.keys()),\n",
    "    textposition = \"top center\"\n",
    ")\n",
    "\n",
    "# Arrows = line + cone\n",
    "line_x, line_y, line_z = [], [], []\n",
    "cone_origins = []\n",
    "cone_directions = []\n",
    "\n",
    "for referrer, referees in data_dict.items():\n",
    "    origin = node_positions[referrer]\n",
    "    for referee in referees:\n",
    "        destination = node_positions[referee]\n",
    "        vector = destination - origin\n",
    "\n",
    "        # Line segment from origin to destination\n",
    "        line_x += [origin[0], destination[0], None]\n",
    "        line_y += [origin[1], destination[1], None]\n",
    "        line_z += [origin[2], destination[2], None]\n",
    "\n",
    "        # Cone at the end, pointing back toward origin\n",
    "        cone_origins.append(destination - 0.2 * vector)  # move back a bit for visual clarity\n",
    "        cone_directions.append(0.2 * vector / np.linalg.norm(vector))  # normalized small cone\n",
    "\n",
    "# Stack cone data\n",
    "cone_origins = np.array(cone_origins)\n",
    "cone_directions = np.array(cone_directions)\n",
    "\n",
    "lines_trace = go.Scatter3d(\n",
    "    x = line_x,\n",
    "    y = line_y,\n",
    "    z = line_z,\n",
    "    mode = 'lines',\n",
    "    line = dict(color = 'purple', width = 3)\n",
    ")\n",
    "\n",
    "cones_trace = go.Cone(\n",
    "    x = cone_origins[:, 0],\n",
    "    y = cone_origins[:, 1],\n",
    "    z = cone_origins[:, 2],\n",
    "    u = cone_directions[:, 0],\n",
    "    v = cone_directions[:, 1],\n",
    "    w = cone_directions[:, 2],\n",
    "    sizemode = \"absolute\",\n",
    "    sizeref = 0.1,\n",
    "    anchor = \"tail\",\n",
    "    colorscale = \"Reds\",\n",
    "    showscale = False\n",
    ")\n",
    "\n",
    "# Final figure\n",
    "fig = go.Figure(data = [points_trace, lines_trace, cones_trace])\n",
    "fig.update_layout(\n",
    "    scene = dict(\n",
    "        xaxis = dict(title = 'X'),\n",
    "        yaxis = dict(title = 'Y'),\n",
    "        zaxis = dict(title = 'Z')\n",
    "    ),\n",
    "    title = \"3D Arrow Galaxy: Referrers → Referrees\",\n",
    "    margin = dict(l = 0, r = 0, b = 0, t = 50)\n",
    ")\n",
    "\n",
    "fig.write_html(\"data/postprocess/referrer_referree_3d_arrows.html\")"
   ]
  }
 ],
 "metadata": {
  "kernelspec": {
   "display_name": "env",
   "language": "python",
   "name": "python3"
  },
  "language_info": {
   "codemirror_mode": {
    "name": "ipython",
    "version": 3
   },
   "file_extension": ".py",
   "mimetype": "text/x-python",
   "name": "python",
   "nbconvert_exporter": "python",
   "pygments_lexer": "ipython3",
   "version": "3.12.2"
  }
 },
 "nbformat": 4,
 "nbformat_minor": 5
}

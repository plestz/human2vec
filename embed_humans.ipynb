{
 "cells": [
  {
   "cell_type": "code",
   "execution_count": 2,
   "id": "938c628b",
   "metadata": {},
   "outputs": [
    {
     "name": "stdout",
     "output_type": "stream",
     "text": [
      "Intel MKL WARNING: Support of Intel(R) Streaming SIMD Extensions 4.2 (Intel(R) SSE4.2) enabled only processors has been deprecated. Intel oneAPI Math Kernel Library 2025.0 will require Intel(R) Advanced Vector Extensions (Intel(R) AVX) instructions.\n",
      "Intel MKL WARNING: Support of Intel(R) Streaming SIMD Extensions 4.2 (Intel(R) SSE4.2) enabled only processors has been deprecated. Intel oneAPI Math Kernel Library 2025.0 will require Intel(R) Advanced Vector Extensions (Intel(R) AVX) instructions.\n"
     ]
    },
    {
     "name": "stderr",
     "output_type": "stream",
     "text": [
      "/Users/paul/opt/miniconda3/envs/env/lib/python3.12/site-packages/tqdm/auto.py:21: TqdmWarning: IProgress not found. Please update jupyter and ipywidgets. See https://ipywidgets.readthedocs.io/en/stable/user_install.html\n",
      "  from .autonotebook import tqdm as notebook_tqdm\n"
     ]
    }
   ],
   "source": [
    "import numpy as np\n",
    "import pandas as pd\n",
    "\n",
    "import json\n",
    "\n",
    "import torch\n",
    "\n",
    "from sentence_transformers import SentenceTransformer"
   ]
  },
  {
   "cell_type": "code",
   "execution_count": 3,
   "id": "b9c75e61",
   "metadata": {},
   "outputs": [],
   "source": [
    "MEMBER_TO_REFERRALS_FP = 'data/process/member_to_referrals.json'"
   ]
  },
  {
   "cell_type": "code",
   "execution_count": 4,
   "id": "2f58d9ed",
   "metadata": {},
   "outputs": [],
   "source": [
    "def load_member_data(file_path: str) -> pd.DataFrame:\n",
    "    \"\"\"\n",
    "    Load member data from a JSON file and convert it to a DataFrame\n",
    "\n",
    "    Args:\n",
    "        file_path (str) - The path to the JSON file\n",
    "\n",
    "    Returns:\n",
    "        data - The loaded data as a DataFrame\n",
    "    \"\"\"\n",
    "    with open(file_path, 'r') as f:\n",
    "        data = json.load(f)\n",
    "\n",
    "    rows = [(name, referral) for name, referrals in data.items() for referral in referrals]\n",
    "\n",
    "    member_df = pd.DataFrame(rows, columns = ['name', 'referral_received'])\n",
    "\n",
    "    return member_df"
   ]
  },
  {
   "cell_type": "code",
   "execution_count": 5,
   "id": "fa69fd73",
   "metadata": {},
   "outputs": [
    {
     "name": "stdout",
     "output_type": "stream",
     "text": [
      "        name                                  referral_received\n",
      "0    allison  allison knows how to send an email that gets r...\n",
      "1       noah  met because we both stayed late after a meetin...\n",
      "2       noah  we only talked once at length but noah left su...\n",
      "3       noah  ran into noah while lost in the CS building — ...\n",
      "4  gabrielle  most beautiful combo of wit and work ethic — g...\n"
     ]
    }
   ],
   "source": [
    "member_df = load_member_data('data/process/member_to_referrals.json')\n",
    "\n",
    "print(member_df.head())"
   ]
  },
  {
   "cell_type": "code",
   "execution_count": 6,
   "id": "f6ef96d1",
   "metadata": {},
   "outputs": [
    {
     "name": "stderr",
     "output_type": "stream",
     "text": [
      "/Users/paul/opt/miniconda3/envs/env/lib/python3.12/site-packages/huggingface_hub/file_download.py:797: FutureWarning: `resume_download` is deprecated and will be removed in version 1.0.0. Downloads always resume when possible. If you want to force a new download, use `force_download=True`.\n",
      "  warnings.warn(\n",
      "Batches: 100%|██████████| 2/2 [00:01<00:00,  1.89it/s]"
     ]
    },
    {
     "name": "stdout",
     "output_type": "stream",
     "text": [
      "        name                                  referral_received  \\\n",
      "0    allison  allison knows how to send an email that gets r...   \n",
      "1       noah  met because we both stayed late after a meetin...   \n",
      "2       noah  we only talked once at length but noah left su...   \n",
      "3       noah  ran into noah while lost in the CS building — ...   \n",
      "4  gabrielle  most beautiful combo of wit and work ethic — g...   \n",
      "\n",
      "                                        rr_embedding  \n",
      "0  [-0.023937242, 0.1229449, -0.03673235, 0.02765...  \n",
      "1  [0.014586663, 0.08165126, -0.027110761, -0.010...  \n",
      "2  [-0.031200906, 0.069543205, -0.01977467, -0.05...  \n",
      "3  [0.0007096485, 0.052328512, -0.025854176, -0.0...  \n",
      "4  [-0.034817625, 0.09657614, -0.0039321356, -0.0...  \n"
     ]
    },
    {
     "name": "stderr",
     "output_type": "stream",
     "text": [
      "\n"
     ]
    }
   ],
   "source": [
    "model = SentenceTransformer('sentence-transformers/all-mpnet-base-v2')\n",
    "\n",
    "embeddings = model.encode(\n",
    "    member_df['referral_received'].tolist(), \n",
    "    convert_to_tensor = True,\n",
    "    batch_size = 5,\n",
    "    show_progress_bar = True\n",
    ")\n",
    "\n",
    "member_df['rr_embedding'] = [embedding.cpu().numpy() for embedding in embeddings]\n",
    "\n",
    "print(member_df.head())"
   ]
  },
  {
   "cell_type": "code",
   "execution_count": 25,
   "id": "58c42fad",
   "metadata": {},
   "outputs": [
    {
     "name": "stdout",
     "output_type": "stream",
     "text": [
      "        name                                     mean_embedding\n",
      "0    allison  [-0.023937242, 0.1229449, -0.03673235, 0.02765...\n",
      "1      angie  [-0.014529911, 0.06296303, -0.024890486, 0.008...\n",
      "2     connie  [-0.012152914, 0.03992878, -0.0175603, 0.02355...\n",
      "3  gabrielle  [0.016208189, 0.050545562, 0.017669156, -0.011...\n",
      "4       gina  [-0.025992667, 0.0259783, 0.005142337, 0.00215...\n",
      "5       noah  [-0.0053015314, 0.06784099, -0.024246536, -0.0...\n",
      "\n",
      "        name  referral_count\n",
      "0    allison               1\n",
      "1      angie               2\n",
      "2     connie               1\n",
      "3  gabrielle               2\n",
      "4       gina               1\n",
      "5       noah               3\n"
     ]
    }
   ],
   "source": [
    "grouped_embeddings = member_df.groupby('name')['rr_embedding']\n",
    "\n",
    "mean_pooled_referral_embeddings = grouped_embeddings.mean().reset_index(name = 'mean_embedding')\n",
    "referral_counts = grouped_embeddings.count().reset_index(name = 'referral_count')\n",
    "\n",
    "print(mean_pooled_referral_embeddings, end = '\\n\\n')\n",
    "print(referral_counts)"
   ]
  }
 ],
 "metadata": {
  "kernelspec": {
   "display_name": "env",
   "language": "python",
   "name": "python3"
  },
  "language_info": {
   "codemirror_mode": {
    "name": "ipython",
    "version": 3
   },
   "file_extension": ".py",
   "mimetype": "text/x-python",
   "name": "python",
   "nbconvert_exporter": "python",
   "pygments_lexer": "ipython3",
   "version": "3.12.2"
  }
 },
 "nbformat": 4,
 "nbformat_minor": 5
}

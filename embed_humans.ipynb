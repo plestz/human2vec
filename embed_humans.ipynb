{
 "cells": [
  {
   "cell_type": "code",
   "execution_count": 1,
   "id": "938c628b",
   "metadata": {},
   "outputs": [
    {
     "name": "stdout",
     "output_type": "stream",
     "text": [
      "Intel MKL WARNING: Support of Intel(R) Streaming SIMD Extensions 4.2 (Intel(R) SSE4.2) enabled only processors has been deprecated. Intel oneAPI Math Kernel Library 2025.0 will require Intel(R) Advanced Vector Extensions (Intel(R) AVX) instructions.\n",
      "Intel MKL WARNING: Support of Intel(R) Streaming SIMD Extensions 4.2 (Intel(R) SSE4.2) enabled only processors has been deprecated. Intel oneAPI Math Kernel Library 2025.0 will require Intel(R) Advanced Vector Extensions (Intel(R) AVX) instructions.\n"
     ]
    }
   ],
   "source": [
    "import numpy as np\n",
    "import pandas as pd\n",
    "\n",
    "import json"
   ]
  },
  {
   "cell_type": "code",
   "execution_count": 3,
   "id": "b9c75e61",
   "metadata": {},
   "outputs": [],
   "source": [
    "MEMBER_TO_REFERRALS_FP = 'data/process/member_to_referrals.json'"
   ]
  },
  {
   "cell_type": "code",
   "execution_count": 2,
   "id": "2f58d9ed",
   "metadata": {},
   "outputs": [],
   "source": [
    "def load_member_data(file_path: str) -> pd.DataFrame:\n",
    "    \"\"\"\n",
    "    Load member data from a JSON file and convert it to a DataFrame\n",
    "\n",
    "    Args:\n",
    "        file_path (str) - The path to the JSON file\n",
    "\n",
    "    Returns:\n",
    "        data - The loaded data as a DataFrame\n",
    "    \"\"\"\n",
    "    with open(file_path, 'r') as f:\n",
    "        data = json.load(f)\n",
    "\n",
    "    rows = [(name, referral) for name, referrals in data.items() for referral in referrals]\n",
    "\n",
    "    member_df = pd.DataFrame(rows, columns = ['name', 'referral_received'])\n",
    "\n",
    "    return member_df"
   ]
  },
  {
   "cell_type": "code",
   "execution_count": 4,
   "id": "fa69fd73",
   "metadata": {},
   "outputs": [
    {
     "name": "stdout",
     "output_type": "stream",
     "text": [
      "        name                                  referral_received\n",
      "0    allison  allison knows how to send an email that gets r...\n",
      "1       noah  met because we both stayed late after a meetin...\n",
      "2       noah  we only talked once at length but noah left su...\n",
      "3       noah  ran into noah while lost in the CS building — ...\n",
      "4  gabrielle  most beautiful combo of wit and work ethic — g...\n"
     ]
    }
   ],
   "source": [
    "member_df = load_member_data('data/process/member_to_referrals.json')\n",
    "\n",
    "print(member_df.head())"
   ]
  }
 ],
 "metadata": {
  "kernelspec": {
   "display_name": "env",
   "language": "python",
   "name": "python3"
  },
  "language_info": {
   "codemirror_mode": {
    "name": "ipython",
    "version": 3
   },
   "file_extension": ".py",
   "mimetype": "text/x-python",
   "name": "python",
   "nbconvert_exporter": "python",
   "pygments_lexer": "ipython3",
   "version": "3.12.2"
  }
 },
 "nbformat": 4,
 "nbformat_minor": 5
}
